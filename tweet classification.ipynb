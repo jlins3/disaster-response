{
 "cells": [
  {
   "cell_type": "code",
   "execution_count": 11,
   "metadata": {},
   "outputs": [
    {
     "data": {
      "text/html": [
       "<div>\n",
       "<style scoped>\n",
       "    .dataframe tbody tr th:only-of-type {\n",
       "        vertical-align: middle;\n",
       "    }\n",
       "\n",
       "    .dataframe tbody tr th {\n",
       "        vertical-align: top;\n",
       "    }\n",
       "\n",
       "    .dataframe thead th {\n",
       "        text-align: right;\n",
       "    }\n",
       "</style>\n",
       "<table border=\"1\" class=\"dataframe\">\n",
       "  <thead>\n",
       "    <tr style=\"text-align: right;\">\n",
       "      <th></th>\n",
       "      <th>day</th>\n",
       "      <th>month</th>\n",
       "      <th>year</th>\n",
       "      <th>hour</th>\n",
       "      <th>minute</th>\n",
       "      <th>second</th>\n",
       "      <th>lat</th>\n",
       "      <th>long</th>\n",
       "      <th>tweet</th>\n",
       "      <th>category</th>\n",
       "      <th>name</th>\n",
       "      <th>sentiment</th>\n",
       "    </tr>\n",
       "  </thead>\n",
       "  <tbody>\n",
       "    <tr>\n",
       "      <th>0</th>\n",
       "      <td>24</td>\n",
       "      <td>8</td>\n",
       "      <td>2014</td>\n",
       "      <td>20</td>\n",
       "      <td>40</td>\n",
       "      <td>22</td>\n",
       "      <td>38.636516</td>\n",
       "      <td>-121.104792</td>\n",
       "      <td>RT @bgittleson: This photo is very California....</td>\n",
       "      <td>not_related_or_irrelevant</td>\n",
       "      <td>California</td>\n",
       "      <td>0.0</td>\n",
       "    </tr>\n",
       "    <tr>\n",
       "      <th>1</th>\n",
       "      <td>24</td>\n",
       "      <td>8</td>\n",
       "      <td>2014</td>\n",
       "      <td>20</td>\n",
       "      <td>40</td>\n",
       "      <td>26</td>\n",
       "      <td>37.673658</td>\n",
       "      <td>-121.604303</td>\n",
       "      <td>RT @dekebridges: 6.0 magnitude earthquake hits...</td>\n",
       "      <td>other_useful_information</td>\n",
       "      <td>California</td>\n",
       "      <td>-3.0</td>\n",
       "    </tr>\n",
       "    <tr>\n",
       "      <th>2</th>\n",
       "      <td>24</td>\n",
       "      <td>8</td>\n",
       "      <td>2014</td>\n",
       "      <td>20</td>\n",
       "      <td>40</td>\n",
       "      <td>42</td>\n",
       "      <td>32.617982</td>\n",
       "      <td>-116.457145</td>\n",
       "      <td>Okay, if you live in Napa Valley California, w...</td>\n",
       "      <td>other_useful_information</td>\n",
       "      <td>California</td>\n",
       "      <td>-2.0</td>\n",
       "    </tr>\n",
       "    <tr>\n",
       "      <th>3</th>\n",
       "      <td>24</td>\n",
       "      <td>8</td>\n",
       "      <td>2014</td>\n",
       "      <td>20</td>\n",
       "      <td>40</td>\n",
       "      <td>19</td>\n",
       "      <td>34.268587</td>\n",
       "      <td>-114.964176</td>\n",
       "      <td>Typical. I go to San Francisco and there's an ...</td>\n",
       "      <td>infrastructure_and_utilities_damage</td>\n",
       "      <td>California</td>\n",
       "      <td>-3.0</td>\n",
       "    </tr>\n",
       "    <tr>\n",
       "      <th>4</th>\n",
       "      <td>24</td>\n",
       "      <td>8</td>\n",
       "      <td>2014</td>\n",
       "      <td>20</td>\n",
       "      <td>40</td>\n",
       "      <td>22</td>\n",
       "      <td>37.959183</td>\n",
       "      <td>-121.275241</td>\n",
       "      <td>RT @vickydnguyen: Meadowbrook Lane in Napa-- s...</td>\n",
       "      <td>other_useful_information</td>\n",
       "      <td>California</td>\n",
       "      <td>-3.0</td>\n",
       "    </tr>\n",
       "  </tbody>\n",
       "</table>\n",
       "</div>"
      ],
      "text/plain": [
       "   day  month  year  hour  minute  second        lat        long  \\\n",
       "0   24      8  2014    20      40      22  38.636516 -121.104792   \n",
       "1   24      8  2014    20      40      26  37.673658 -121.604303   \n",
       "2   24      8  2014    20      40      42  32.617982 -116.457145   \n",
       "3   24      8  2014    20      40      19  34.268587 -114.964176   \n",
       "4   24      8  2014    20      40      22  37.959183 -121.275241   \n",
       "\n",
       "                                               tweet  \\\n",
       "0  RT @bgittleson: This photo is very California....   \n",
       "1  RT @dekebridges: 6.0 magnitude earthquake hits...   \n",
       "2  Okay, if you live in Napa Valley California, w...   \n",
       "3  Typical. I go to San Francisco and there's an ...   \n",
       "4  RT @vickydnguyen: Meadowbrook Lane in Napa-- s...   \n",
       "\n",
       "                              category        name  sentiment  \n",
       "0            not_related_or_irrelevant  California        0.0  \n",
       "1             other_useful_information  California       -3.0  \n",
       "2             other_useful_information  California       -2.0  \n",
       "3  infrastructure_and_utilities_damage  California       -3.0  \n",
       "4             other_useful_information  California       -3.0  "
      ]
     },
     "execution_count": 11,
     "metadata": {},
     "output_type": "execute_result"
    }
   ],
   "source": [
    "# https://towardsdatascience.com/multi-class-text-classification-with-scikit-learn-12f1e60e0a9f\n",
    "import pandas as pd\n",
    "import re\n",
    "import warnings\n",
    "warnings.filterwarnings(\"ignore\")\n",
    "test = pd.read_csv(\"california_labeled_formatted_tweets.txt\", sep='\\t')\n",
    "test = test.head(50000)\n",
    "test.head()"
   ]
  },
  {
   "cell_type": "code",
   "execution_count": 12,
   "metadata": {},
   "outputs": [
    {
     "data": {
      "text/html": [
       "<div>\n",
       "<style scoped>\n",
       "    .dataframe tbody tr th:only-of-type {\n",
       "        vertical-align: middle;\n",
       "    }\n",
       "\n",
       "    .dataframe tbody tr th {\n",
       "        vertical-align: top;\n",
       "    }\n",
       "\n",
       "    .dataframe thead th {\n",
       "        text-align: right;\n",
       "    }\n",
       "</style>\n",
       "<table border=\"1\" class=\"dataframe\">\n",
       "  <thead>\n",
       "    <tr style=\"text-align: right;\">\n",
       "      <th></th>\n",
       "      <th>text</th>\n",
       "      <th>label</th>\n",
       "    </tr>\n",
       "  </thead>\n",
       "  <tbody>\n",
       "    <tr>\n",
       "      <th>0</th>\n",
       "      <td>RT @bgittleson: This photo is very California....</td>\n",
       "      <td>not_related_or_irrelevant</td>\n",
       "    </tr>\n",
       "    <tr>\n",
       "      <th>1</th>\n",
       "      <td>RT @dekebridges: 6.0 magnitude earthquake hits...</td>\n",
       "      <td>other_useful_information</td>\n",
       "    </tr>\n",
       "    <tr>\n",
       "      <th>2</th>\n",
       "      <td>Okay, if you live in Napa Valley California, w...</td>\n",
       "      <td>other_useful_information</td>\n",
       "    </tr>\n",
       "    <tr>\n",
       "      <th>3</th>\n",
       "      <td>Typical. I go to San Francisco and there's an ...</td>\n",
       "      <td>infrastructure_and_utilities_damage</td>\n",
       "    </tr>\n",
       "    <tr>\n",
       "      <th>4</th>\n",
       "      <td>RT @vickydnguyen: Meadowbrook Lane in Napa-- s...</td>\n",
       "      <td>other_useful_information</td>\n",
       "    </tr>\n",
       "  </tbody>\n",
       "</table>\n",
       "</div>"
      ],
      "text/plain": [
       "                                                text  \\\n",
       "0  RT @bgittleson: This photo is very California....   \n",
       "1  RT @dekebridges: 6.0 magnitude earthquake hits...   \n",
       "2  Okay, if you live in Napa Valley California, w...   \n",
       "3  Typical. I go to San Francisco and there's an ...   \n",
       "4  RT @vickydnguyen: Meadowbrook Lane in Napa-- s...   \n",
       "\n",
       "                                 label  \n",
       "0            not_related_or_irrelevant  \n",
       "1             other_useful_information  \n",
       "2             other_useful_information  \n",
       "3  infrastructure_and_utilities_damage  \n",
       "4             other_useful_information  "
      ]
     },
     "execution_count": 12,
     "metadata": {},
     "output_type": "execute_result"
    }
   ],
   "source": [
    "trainDF = pd.DataFrame()\n",
    "trainDF['text'] = test['tweet']\n",
    "trainDF['label'] = test['category']\n",
    "trainDF.head()"
   ]
  },
  {
   "cell_type": "code",
   "execution_count": 13,
   "metadata": {},
   "outputs": [
    {
     "data": {
      "text/html": [
       "<div>\n",
       "<style scoped>\n",
       "    .dataframe tbody tr th:only-of-type {\n",
       "        vertical-align: middle;\n",
       "    }\n",
       "\n",
       "    .dataframe tbody tr th {\n",
       "        vertical-align: top;\n",
       "    }\n",
       "\n",
       "    .dataframe thead th {\n",
       "        text-align: right;\n",
       "    }\n",
       "</style>\n",
       "<table border=\"1\" class=\"dataframe\">\n",
       "  <thead>\n",
       "    <tr style=\"text-align: right;\">\n",
       "      <th></th>\n",
       "      <th>text</th>\n",
       "      <th>label</th>\n",
       "    </tr>\n",
       "  </thead>\n",
       "  <tbody>\n",
       "    <tr>\n",
       "      <th>0</th>\n",
       "      <td>rt bgittleson photo california napa earthquake</td>\n",
       "      <td>not_related_or_irrelevant</td>\n",
       "    </tr>\n",
       "    <tr>\n",
       "      <th>1</th>\n",
       "      <td>rt dekebridges 60 magnitude earthquake hit nor...</td>\n",
       "      <td>other_useful_information</td>\n",
       "    </tr>\n",
       "    <tr>\n",
       "      <th>2</th>\n",
       "      <td>okay live napa valley california let little 60...</td>\n",
       "      <td>other_useful_information</td>\n",
       "    </tr>\n",
       "    <tr>\n",
       "      <th>3</th>\n",
       "      <td>typical go san francisco there earthquake happ...</td>\n",
       "      <td>infrastructure_and_utilities_damage</td>\n",
       "    </tr>\n",
       "    <tr>\n",
       "      <th>4</th>\n",
       "      <td>rt vickydnguyen meadowbrook lane napa skater f...</td>\n",
       "      <td>other_useful_information</td>\n",
       "    </tr>\n",
       "  </tbody>\n",
       "</table>\n",
       "</div>"
      ],
      "text/plain": [
       "                                                text  \\\n",
       "0     rt bgittleson photo california napa earthquake   \n",
       "1  rt dekebridges 60 magnitude earthquake hit nor...   \n",
       "2  okay live napa valley california let little 60...   \n",
       "3  typical go san francisco there earthquake happ...   \n",
       "4  rt vickydnguyen meadowbrook lane napa skater f...   \n",
       "\n",
       "                                 label  \n",
       "0            not_related_or_irrelevant  \n",
       "1             other_useful_information  \n",
       "2             other_useful_information  \n",
       "3  infrastructure_and_utilities_damage  \n",
       "4             other_useful_information  "
      ]
     },
     "execution_count": 13,
     "metadata": {},
     "output_type": "execute_result"
    }
   ],
   "source": [
    "tweetsList = trainDF['text'].tolist()\n",
    "from nltk.corpus import stopwords \n",
    "from nltk.stem.wordnet import WordNetLemmatizer\n",
    "import string\n",
    "stop = set(stopwords.words('english'))\n",
    "exclude = set(string.punctuation) \n",
    "lemma = WordNetLemmatizer()\n",
    "def clean(doc):\n",
    "    stop_free = \" \".join([i for i in doc.lower().split() if i not in stop])\n",
    "    punc_free = ''.join(ch for ch in stop_free if ch not in exclude)\n",
    "    normalized = \" \".join(lemma.lemmatize(word) for word in punc_free.split())\n",
    "    result = re.sub(r\"http\\S+\", \"\", normalized)\n",
    "    return result\n",
    "\n",
    "tweetsList_clean = [clean(tweet).split() for tweet in tweetsList]  \n",
    "combined = [' '.join(tweet) for tweet in tweetsList_clean]\n",
    "trainDF['text'] = combined\n",
    "trainDF.head()"
   ]
  },
  {
   "cell_type": "code",
   "execution_count": 14,
   "metadata": {},
   "outputs": [
    {
     "data": {
      "text/html": [
       "<div>\n",
       "<style scoped>\n",
       "    .dataframe tbody tr th:only-of-type {\n",
       "        vertical-align: middle;\n",
       "    }\n",
       "\n",
       "    .dataframe tbody tr th {\n",
       "        vertical-align: top;\n",
       "    }\n",
       "\n",
       "    .dataframe thead th {\n",
       "        text-align: right;\n",
       "    }\n",
       "</style>\n",
       "<table border=\"1\" class=\"dataframe\">\n",
       "  <thead>\n",
       "    <tr style=\"text-align: right;\">\n",
       "      <th></th>\n",
       "      <th>label</th>\n",
       "      <th>text</th>\n",
       "      <th>category_id</th>\n",
       "    </tr>\n",
       "  </thead>\n",
       "  <tbody>\n",
       "    <tr>\n",
       "      <th>0</th>\n",
       "      <td>not_related_or_irrelevant</td>\n",
       "      <td>rt bgittleson photo california napa earthquake</td>\n",
       "      <td>0</td>\n",
       "    </tr>\n",
       "    <tr>\n",
       "      <th>1</th>\n",
       "      <td>other_useful_information</td>\n",
       "      <td>rt dekebridges 60 magnitude earthquake hit nor...</td>\n",
       "      <td>1</td>\n",
       "    </tr>\n",
       "    <tr>\n",
       "      <th>2</th>\n",
       "      <td>other_useful_information</td>\n",
       "      <td>okay live napa valley california let little 60...</td>\n",
       "      <td>1</td>\n",
       "    </tr>\n",
       "    <tr>\n",
       "      <th>3</th>\n",
       "      <td>infrastructure_and_utilities_damage</td>\n",
       "      <td>typical go san francisco there earthquake happ...</td>\n",
       "      <td>2</td>\n",
       "    </tr>\n",
       "    <tr>\n",
       "      <th>4</th>\n",
       "      <td>other_useful_information</td>\n",
       "      <td>rt vickydnguyen meadowbrook lane napa skater f...</td>\n",
       "      <td>1</td>\n",
       "    </tr>\n",
       "  </tbody>\n",
       "</table>\n",
       "</div>"
      ],
      "text/plain": [
       "                                 label  \\\n",
       "0            not_related_or_irrelevant   \n",
       "1             other_useful_information   \n",
       "2             other_useful_information   \n",
       "3  infrastructure_and_utilities_damage   \n",
       "4             other_useful_information   \n",
       "\n",
       "                                                text  category_id  \n",
       "0     rt bgittleson photo california napa earthquake            0  \n",
       "1  rt dekebridges 60 magnitude earthquake hit nor...            1  \n",
       "2  okay live napa valley california let little 60...            1  \n",
       "3  typical go san francisco there earthquake happ...            2  \n",
       "4  rt vickydnguyen meadowbrook lane napa skater f...            1  "
      ]
     },
     "execution_count": 14,
     "metadata": {},
     "output_type": "execute_result"
    }
   ],
   "source": [
    "\n",
    "from io import StringIO\n",
    "col = ['label', 'text']\n",
    "df = trainDF[col]\n",
    "df = df[pd.notnull(df['text'])]\n",
    "df.columns = ['label', 'text']\n",
    "df['category_id'] = df['label'].factorize()[0]\n",
    "category_id_df = df[['label', 'category_id']].drop_duplicates().sort_values('category_id')\n",
    "category_to_id = dict(category_id_df.values)\n",
    "id_to_category = dict(category_id_df[['category_id', 'label']].values)\n",
    "df.head()"
   ]
  },
  {
   "cell_type": "code",
   "execution_count": 15,
   "metadata": {},
   "outputs": [
    {
     "data": {
      "text/plain": [
       "<matplotlib.axes._subplots.AxesSubplot at 0x27ad7d5ddd8>"
      ]
     },
     "execution_count": 15,
     "metadata": {},
     "output_type": "execute_result"
    },
    {
     "data": {
      "image/png": "[encoded data removed]",
      "text/plain": [
       "<Figure size 576x432 with 1 Axes>"
      ]
     },
     "metadata": {
      "needs_background": "light"
     },
     "output_type": "display_data"
    }
   ],
   "source": [
    "import matplotlib.pyplot as plt\n",
    "fig = plt.figure(figsize=(8,6))\n",
    "df.groupby('label').text.count().plot.bar(ylim=0)"
   ]
  },
  {
   "cell_type": "code",
   "execution_count": 16,
   "metadata": {},
   "outputs": [
    {
     "data": {
      "text/plain": [
       "(50000, 15788)"
      ]
     },
     "execution_count": 16,
     "metadata": {},
     "output_type": "execute_result"
    }
   ],
   "source": [
    "from sklearn.feature_extraction.text import TfidfVectorizer\n",
    "tfidf = TfidfVectorizer(sublinear_tf=True, min_df=5, norm='l2', encoding='latin-1', ngram_range=(1, 2), stop_words='english')\n",
    "features = tfidf.fit_transform(df.text).toarray()\n",
    "labels = df.category_id\n",
    "features.shape"
   ]
  },
  {
   "cell_type": "code",
   "execution_count": 17,
   "metadata": {},
   "outputs": [
    {
     "name": "stdout",
     "output_type": "stream",
     "text": [
      "# 'caution_and_advice':\n",
      "  . Most correlated unigrams:\n",
      ". funding\n",
      ". govpressoffice\n",
      "  . Most correlated bigrams:\n",
      ". napaquake seismologist\n",
      ". hope funding\n",
      "# 'donation_needs_or_offers_or_volunteering_services':\n",
      "  . Most correlated unigrams:\n",
      ". onehottmess12\n",
      ". help\n",
      "  . Most correlated bigrams:\n",
      ". community church\n",
      ". crosswalk community\n",
      "# 'infrastructure_and_utilities_damage':\n",
      "  . Most correlated unigrams:\n",
      ". building\n",
      ". damage\n",
      "  . Most correlated bigrams:\n",
      ". historic building\n",
      ". earthquake damage\n",
      "# 'injured_or_dead_people':\n",
      "  . Most correlated unigrams:\n",
      ". injury\n",
      ". injured\n",
      "  . Most correlated bigrams:\n",
      ". strong california\n",
      ". cause injury\n",
      "# 'not_related_or_irrelevant':\n",
      "  . Most correlated unigrams:\n",
      ". photo\n",
      ". bgittleson\n",
      "  . Most correlated bigrams:\n",
      ". bgittleson photo\n",
      ". photo california\n",
      "# 'other_useful_information':\n",
      "  . Most correlated unigrams:\n",
      ". bgittleson\n",
      ". injured\n",
      "  . Most correlated bigrams:\n",
      ". rt bgittleson\n",
      ". bgittleson photo\n",
      "# 'sympathy_and_emotional_support':\n",
      "  . Most correlated unigrams:\n",
      ". thought\n",
      ". prayer\n",
      "  . Most correlated bigrams:\n",
      ". hoping involved\n",
      ". rescue worker\n"
     ]
    }
   ],
   "source": [
    "from sklearn.feature_selection import chi2\n",
    "import numpy as np\n",
    "N = 2\n",
    "for label, category_id in sorted(category_to_id.items()):\n",
    "  features_chi2 = chi2(features, labels == category_id)\n",
    "  indices = np.argsort(features_chi2[0])\n",
    "  feature_names = np.array(tfidf.get_feature_names())[indices]\n",
    "  unigrams = [v for v in feature_names if len(v.split(' ')) == 1]\n",
    "  bigrams = [v for v in feature_names if len(v.split(' ')) == 2]\n",
    "  print(\"# '{}':\".format(label))\n",
    "  print(\"  . Most correlated unigrams:\\n. {}\".format('\\n. '.join(unigrams[-N:])))\n",
    "  print(\"  . Most correlated bigrams:\\n. {}\".format('\\n. '.join(bigrams[-N:])))"
   ]
  },
  {
   "cell_type": "code",
   "execution_count": 18,
   "metadata": {},
   "outputs": [],
   "source": [
    "from sklearn.model_selection import train_test_split\n",
    "from sklearn.feature_extraction.text import CountVectorizer\n",
    "from sklearn.feature_extraction.text import TfidfTransformer\n",
    "from sklearn.naive_bayes import MultinomialNB\n",
    "\n",
    "X_train, X_test, y_train, y_test = train_test_split(df['text'], df['label'], random_state = 0)\n",
    "count_vect = CountVectorizer()\n",
    "X_train_counts = count_vect.fit_transform(X_train)\n",
    "tfidf_transformer = TfidfTransformer()\n",
    "X_train_tfidf = tfidf_transformer.fit_transform(X_train_counts)\n",
    "clf = MultinomialNB().fit(X_train_tfidf, y_train)"
   ]
  },
  {
   "cell_type": "code",
   "execution_count": 19,
   "metadata": {},
   "outputs": [
    {
     "data": {
      "image/png": "[encoded data removed]",
      "text/plain": [
       "<Figure size 432x288 with 1 Axes>"
      ]
     },
     "metadata": {
      "needs_background": "light"
     },
     "output_type": "display_data"
    }
   ],
   "source": [
    "from sklearn.linear_model import LogisticRegression\n",
    "from sklearn.ensemble import RandomForestClassifier\n",
    "from sklearn.svm import LinearSVC\n",
    "from sklearn.model_selection import cross_val_score\n",
    "models = [\n",
    "    RandomForestClassifier(n_estimators=200, max_depth=3, random_state=0),\n",
    "    LinearSVC(),\n",
    "    MultinomialNB(),\n",
    "    LogisticRegression(random_state=0),\n",
    "]\n",
    "CV = 5\n",
    "cv_df = pd.DataFrame(index=range(CV * len(models)))\n",
    "entries = []\n",
    "for model in models:\n",
    "  model_name = model.__class__.__name__\n",
    "  accuracies = cross_val_score(model, features, labels, scoring='accuracy', cv=CV)\n",
    "  for fold_idx, accuracy in enumerate(accuracies):\n",
    "    entries.append((model_name, fold_idx, accuracy))\n",
    "cv_df = pd.DataFrame(entries, columns=['model_name', 'fold_idx', 'accuracy'])\n",
    "import seaborn as sns\n",
    "sns.boxplot(x='model_name', y='accuracy', data=cv_df)\n",
    "sns.stripplot(x='model_name', y='accuracy', data=cv_df, \n",
    "              size=8, jitter=True, edgecolor=\"gray\", linewidth=2)\n",
    "plt.show()"
   ]
  },
  {
   "cell_type": "code",
   "execution_count": 20,
   "metadata": {},
   "outputs": [
    {
     "data": {
      "text/plain": [
       "model_name\n",
       "LinearSVC                 0.929619\n",
       "LogisticRegression        0.910618\n",
       "MultinomialNB             0.869557\n",
       "RandomForestClassifier    0.667400\n",
       "Name: accuracy, dtype: float64"
      ]
     },
     "execution_count": 20,
     "metadata": {},
     "output_type": "execute_result"
    }
   ],
   "source": [
    "cv_df.groupby('model_name').accuracy.mean()"
   ]
  },
  {
   "cell_type": "code",
   "execution_count": null,
   "metadata": {},
   "outputs": [],
   "source": []
  }
 ],
 "metadata": {
  "kernelspec": {
   "display_name": "Python 3",
   "language": "python",
   "name": "python3"
  },
  "language_info": {
   "codemirror_mode": {
    "name": "ipython",
    "version": 3
   },
   "file_extension": ".py",
   "mimetype": "text/x-python",
   "name": "python",
   "nbconvert_exporter": "python",
   "pygments_lexer": "ipython3",
   "version": "3.6.8"
  }
 },
 "nbformat": 4,
 "nbformat_minor": 2
}
