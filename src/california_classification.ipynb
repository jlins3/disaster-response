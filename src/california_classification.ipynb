{
 "cells": [
  {
   "cell_type": "markdown",
   "metadata": {},
   "source": [
    "##### Loading the data"
   ]
  },
  {
   "cell_type": "code",
   "execution_count": 13,
   "metadata": {
    "scrolled": true
   },
   "outputs": [
    {
     "data": {
      "text/html": [
       "<div>\n",
       "<style scoped>\n",
       "    .dataframe tbody tr th:only-of-type {\n",
       "        vertical-align: middle;\n",
       "    }\n",
       "\n",
       "    .dataframe tbody tr th {\n",
       "        vertical-align: top;\n",
       "    }\n",
       "\n",
       "    .dataframe thead th {\n",
       "        text-align: right;\n",
       "    }\n",
       "</style>\n",
       "<table border=\"1\" class=\"dataframe\">\n",
       "  <thead>\n",
       "    <tr style=\"text-align: right;\">\n",
       "      <th></th>\n",
       "      <th>day</th>\n",
       "      <th>month</th>\n",
       "      <th>year</th>\n",
       "      <th>hour</th>\n",
       "      <th>minute</th>\n",
       "      <th>second</th>\n",
       "      <th>lat</th>\n",
       "      <th>long</th>\n",
       "      <th>tweet</th>\n",
       "      <th>category</th>\n",
       "    </tr>\n",
       "  </thead>\n",
       "  <tbody>\n",
       "    <tr>\n",
       "      <th>0</th>\n",
       "      <td>24</td>\n",
       "      <td>8</td>\n",
       "      <td>2014</td>\n",
       "      <td>20</td>\n",
       "      <td>40</td>\n",
       "      <td>22</td>\n",
       "      <td>39.540305</td>\n",
       "      <td>-122.394197</td>\n",
       "      <td>RT @bgittleson: This photo is very California....</td>\n",
       "      <td>other_useful_information</td>\n",
       "    </tr>\n",
       "    <tr>\n",
       "      <th>1</th>\n",
       "      <td>24</td>\n",
       "      <td>8</td>\n",
       "      <td>2014</td>\n",
       "      <td>20</td>\n",
       "      <td>40</td>\n",
       "      <td>54</td>\n",
       "      <td>38.389855</td>\n",
       "      <td>-123.504200</td>\n",
       "      <td>Photos show earthquake devastation in Napa win...</td>\n",
       "      <td>infrastructure_and_utilities_damage</td>\n",
       "    </tr>\n",
       "    <tr>\n",
       "      <th>2</th>\n",
       "      <td>24</td>\n",
       "      <td>8</td>\n",
       "      <td>2014</td>\n",
       "      <td>20</td>\n",
       "      <td>40</td>\n",
       "      <td>26</td>\n",
       "      <td>38.111685</td>\n",
       "      <td>-122.747191</td>\n",
       "      <td>RT @dekebridges: 6.0 magnitude earthquake hits...</td>\n",
       "      <td>injured_or_dead_people</td>\n",
       "    </tr>\n",
       "    <tr>\n",
       "      <th>3</th>\n",
       "      <td>24</td>\n",
       "      <td>8</td>\n",
       "      <td>2014</td>\n",
       "      <td>20</td>\n",
       "      <td>41</td>\n",
       "      <td>0</td>\n",
       "      <td>39.187269</td>\n",
       "      <td>-123.033301</td>\n",
       "      <td>RT @GavinNewsom: Wow! Just some of the the dam...</td>\n",
       "      <td>infrastructure_and_utilities_damage</td>\n",
       "    </tr>\n",
       "    <tr>\n",
       "      <th>4</th>\n",
       "      <td>24</td>\n",
       "      <td>8</td>\n",
       "      <td>2014</td>\n",
       "      <td>20</td>\n",
       "      <td>40</td>\n",
       "      <td>42</td>\n",
       "      <td>38.118232</td>\n",
       "      <td>-121.309568</td>\n",
       "      <td>Okay, if you live in Napa Valley California, w...</td>\n",
       "      <td>other_useful_information</td>\n",
       "    </tr>\n",
       "  </tbody>\n",
       "</table>\n",
       "</div>"
      ],
      "text/plain": [
       "   day  month  year  hour  minute  second        lat        long  \\\n",
       "0   24      8  2014    20      40      22  39.540305 -122.394197   \n",
       "1   24      8  2014    20      40      54  38.389855 -123.504200   \n",
       "2   24      8  2014    20      40      26  38.111685 -122.747191   \n",
       "3   24      8  2014    20      41       0  39.187269 -123.033301   \n",
       "4   24      8  2014    20      40      42  38.118232 -121.309568   \n",
       "\n",
       "                                               tweet  \\\n",
       "0  RT @bgittleson: This photo is very California....   \n",
       "1  Photos show earthquake devastation in Napa win...   \n",
       "2  RT @dekebridges: 6.0 magnitude earthquake hits...   \n",
       "3  RT @GavinNewsom: Wow! Just some of the the dam...   \n",
       "4  Okay, if you live in Napa Valley California, w...   \n",
       "\n",
       "                              category  \n",
       "0             other_useful_information  \n",
       "1  infrastructure_and_utilities_damage  \n",
       "2               injured_or_dead_people  \n",
       "3  infrastructure_and_utilities_damage  \n",
       "4             other_useful_information  "
      ]
     },
     "execution_count": 13,
     "metadata": {},
     "output_type": "execute_result"
    }
   ],
   "source": [
    "# https://towardsdatascience.com/multi-class-text-classification-with-scikit-learn-12f1e60e0a9f\n",
    "# Part of CSE 6242 GaTech research project \n",
    "import pandas as pd\n",
    "import re\n",
    "import warnings\n",
    "warnings.filterwarnings(\"ignore\")\n",
    "test = pd.read_csv(\"california_labeled_formatted_tweets_split0.txt\", sep='\\t')\n",
    "test.head()"
   ]
  },
  {
   "cell_type": "markdown",
   "metadata": {},
   "source": [
    "##### Exploration"
   ]
  },
  {
   "cell_type": "code",
   "execution_count": 20,
   "metadata": {},
   "outputs": [
    {
     "data": {
      "image/png": "[encoded data removed]",
      "text/plain": [
       "<Figure size 576x432 with 1 Axes>"
      ]
     },
     "metadata": {
      "needs_background": "light"
     },
     "output_type": "display_data"
    }
   ],
   "source": [
    "import matplotlib.pyplot as plt\n",
    "fig = plt.figure(figsize=(8,6))\n",
    "test.groupby('category').tweet.count().plot.bar(ylim=0)\n",
    "plt.show()"
   ]
  },
  {
   "cell_type": "markdown",
   "metadata": {},
   "source": [
    "We can see that \"other useful information\" seems to be a majority of the tweets. This isn't a show stopper though, we will proceed to make predictions on the data, keeping this category. Infastructure and utilities damage and injured or dead people  are other prominent categories which will be useful to for our analysis. "
   ]
  },
  {
   "cell_type": "markdown",
   "metadata": {},
   "source": [
    "#### Building training set "
   ]
  },
  {
   "cell_type": "code",
   "execution_count": 28,
   "metadata": {},
   "outputs": [
    {
     "data": {
      "text/html": [
       "<div>\n",
       "<style scoped>\n",
       "    .dataframe tbody tr th:only-of-type {\n",
       "        vertical-align: middle;\n",
       "    }\n",
       "\n",
       "    .dataframe tbody tr th {\n",
       "        vertical-align: top;\n",
       "    }\n",
       "\n",
       "    .dataframe thead th {\n",
       "        text-align: right;\n",
       "    }\n",
       "</style>\n",
       "<table border=\"1\" class=\"dataframe\">\n",
       "  <thead>\n",
       "    <tr style=\"text-align: right;\">\n",
       "      <th></th>\n",
       "      <th>text</th>\n",
       "      <th>label</th>\n",
       "    </tr>\n",
       "  </thead>\n",
       "  <tbody>\n",
       "    <tr>\n",
       "      <th>0</th>\n",
       "      <td>RT @bgittleson: This photo is very California....</td>\n",
       "      <td>other_useful_information</td>\n",
       "    </tr>\n",
       "    <tr>\n",
       "      <th>1</th>\n",
       "      <td>Photos show earthquake devastation in Napa win...</td>\n",
       "      <td>infrastructure_and_utilities_damage</td>\n",
       "    </tr>\n",
       "    <tr>\n",
       "      <th>2</th>\n",
       "      <td>RT @dekebridges: 6.0 magnitude earthquake hits...</td>\n",
       "      <td>injured_or_dead_people</td>\n",
       "    </tr>\n",
       "    <tr>\n",
       "      <th>3</th>\n",
       "      <td>RT @GavinNewsom: Wow! Just some of the the dam...</td>\n",
       "      <td>infrastructure_and_utilities_damage</td>\n",
       "    </tr>\n",
       "    <tr>\n",
       "      <th>4</th>\n",
       "      <td>Okay, if you live in Napa Valley California, w...</td>\n",
       "      <td>other_useful_information</td>\n",
       "    </tr>\n",
       "  </tbody>\n",
       "</table>\n",
       "</div>"
      ],
      "text/plain": [
       "                                                text  \\\n",
       "0  RT @bgittleson: This photo is very California....   \n",
       "1  Photos show earthquake devastation in Napa win...   \n",
       "2  RT @dekebridges: 6.0 magnitude earthquake hits...   \n",
       "3  RT @GavinNewsom: Wow! Just some of the the dam...   \n",
       "4  Okay, if you live in Napa Valley California, w...   \n",
       "\n",
       "                                 label  \n",
       "0             other_useful_information  \n",
       "1  infrastructure_and_utilities_damage  \n",
       "2               injured_or_dead_people  \n",
       "3  infrastructure_and_utilities_damage  \n",
       "4             other_useful_information  "
      ]
     },
     "execution_count": 28,
     "metadata": {},
     "output_type": "execute_result"
    }
   ],
   "source": [
    "trainDF = pd.DataFrame()\n",
    "trainDF['text'] = test['tweet']\n",
    "trainDF['label'] = test['category']\n",
    "trainDF.head()"
   ]
  },
  {
   "cell_type": "code",
   "execution_count": 37,
   "metadata": {},
   "outputs": [
    {
     "data": {
      "text/html": [
       "<div>\n",
       "<style scoped>\n",
       "    .dataframe tbody tr th:only-of-type {\n",
       "        vertical-align: middle;\n",
       "    }\n",
       "\n",
       "    .dataframe tbody tr th {\n",
       "        vertical-align: top;\n",
       "    }\n",
       "\n",
       "    .dataframe thead th {\n",
       "        text-align: right;\n",
       "    }\n",
       "</style>\n",
       "<table border=\"1\" class=\"dataframe\">\n",
       "  <thead>\n",
       "    <tr style=\"text-align: right;\">\n",
       "      <th></th>\n",
       "      <th>text</th>\n",
       "      <th>label</th>\n",
       "    </tr>\n",
       "  </thead>\n",
       "  <tbody>\n",
       "    <tr>\n",
       "      <th>0</th>\n",
       "      <td>rt bgittleson photo california napa earthquake</td>\n",
       "      <td>other_useful_information</td>\n",
       "    </tr>\n",
       "    <tr>\n",
       "      <th>1</th>\n",
       "      <td>photo show earthquake devastation napa wine co...</td>\n",
       "      <td>infrastructure_and_utilities_damage</td>\n",
       "    </tr>\n",
       "    <tr>\n",
       "      <th>2</th>\n",
       "      <td>rt dekebridges 60 magnitude earthquake hit nor...</td>\n",
       "      <td>injured_or_dead_people</td>\n",
       "    </tr>\n",
       "    <tr>\n",
       "      <th>3</th>\n",
       "      <td>rt gavinnewsom wow damage napaquake city amp h...</td>\n",
       "      <td>infrastructure_and_utilities_damage</td>\n",
       "    </tr>\n",
       "    <tr>\n",
       "      <th>4</th>\n",
       "      <td>okay live napa valley california let little 60...</td>\n",
       "      <td>other_useful_information</td>\n",
       "    </tr>\n",
       "  </tbody>\n",
       "</table>\n",
       "</div>"
      ],
      "text/plain": [
       "                                                text  \\\n",
       "0     rt bgittleson photo california napa earthquake   \n",
       "1  photo show earthquake devastation napa wine co...   \n",
       "2  rt dekebridges 60 magnitude earthquake hit nor...   \n",
       "3  rt gavinnewsom wow damage napaquake city amp h...   \n",
       "4  okay live napa valley california let little 60...   \n",
       "\n",
       "                                 label  \n",
       "0             other_useful_information  \n",
       "1  infrastructure_and_utilities_damage  \n",
       "2               injured_or_dead_people  \n",
       "3  infrastructure_and_utilities_damage  \n",
       "4             other_useful_information  "
      ]
     },
     "execution_count": 37,
     "metadata": {},
     "output_type": "execute_result"
    }
   ],
   "source": [
    "tweetsList = trainDF['text'].tolist()\n",
    "from nltk.corpus import stopwords \n",
    "from nltk.stem.wordnet import WordNetLemmatizer\n",
    "import string\n",
    "stop = set(stopwords.words('english'))\n",
    "exclude = set(string.punctuation) \n",
    "lemma = WordNetLemmatizer()\n",
    "def clean(doc):\n",
    "    stop_free = \" \".join([i for i in doc.lower().split() if i not in stop])\n",
    "    punc_free = ''.join(ch for ch in stop_free if ch not in exclude)\n",
    "    normalized = \" \".join(lemma.lemmatize(word) for word in punc_free.split())\n",
    "    result = re.sub(r\"http\\S+\", \"\", normalized)\n",
    "    return result\n",
    "\n",
    "tweetsList_clean = [clean(tweet).split() for tweet in tweetsList]  \n",
    "combined = [' '.join(tweet) for tweet in tweetsList_clean]\n",
    "trainDF['text'] = combined\n",
    "trainDF.head()"
   ]
  },
  {
   "cell_type": "code",
   "execution_count": 38,
   "metadata": {},
   "outputs": [
    {
     "data": {
      "text/html": [
       "<div>\n",
       "<style scoped>\n",
       "    .dataframe tbody tr th:only-of-type {\n",
       "        vertical-align: middle;\n",
       "    }\n",
       "\n",
       "    .dataframe tbody tr th {\n",
       "        vertical-align: top;\n",
       "    }\n",
       "\n",
       "    .dataframe thead th {\n",
       "        text-align: right;\n",
       "    }\n",
       "</style>\n",
       "<table border=\"1\" class=\"dataframe\">\n",
       "  <thead>\n",
       "    <tr style=\"text-align: right;\">\n",
       "      <th></th>\n",
       "      <th>label</th>\n",
       "      <th>text</th>\n",
       "      <th>category_id</th>\n",
       "    </tr>\n",
       "  </thead>\n",
       "  <tbody>\n",
       "    <tr>\n",
       "      <th>0</th>\n",
       "      <td>other_useful_information</td>\n",
       "      <td>rt bgittleson photo california napa earthquake</td>\n",
       "      <td>0</td>\n",
       "    </tr>\n",
       "    <tr>\n",
       "      <th>1</th>\n",
       "      <td>infrastructure_and_utilities_damage</td>\n",
       "      <td>photo show earthquake devastation napa wine co...</td>\n",
       "      <td>1</td>\n",
       "    </tr>\n",
       "    <tr>\n",
       "      <th>2</th>\n",
       "      <td>injured_or_dead_people</td>\n",
       "      <td>rt dekebridges 60 magnitude earthquake hit nor...</td>\n",
       "      <td>2</td>\n",
       "    </tr>\n",
       "    <tr>\n",
       "      <th>3</th>\n",
       "      <td>infrastructure_and_utilities_damage</td>\n",
       "      <td>rt gavinnewsom wow damage napaquake city amp h...</td>\n",
       "      <td>1</td>\n",
       "    </tr>\n",
       "    <tr>\n",
       "      <th>4</th>\n",
       "      <td>other_useful_information</td>\n",
       "      <td>okay live napa valley california let little 60...</td>\n",
       "      <td>0</td>\n",
       "    </tr>\n",
       "  </tbody>\n",
       "</table>\n",
       "</div>"
      ],
      "text/plain": [
       "                                 label  \\\n",
       "0             other_useful_information   \n",
       "1  infrastructure_and_utilities_damage   \n",
       "2               injured_or_dead_people   \n",
       "3  infrastructure_and_utilities_damage   \n",
       "4             other_useful_information   \n",
       "\n",
       "                                                text  category_id  \n",
       "0     rt bgittleson photo california napa earthquake            0  \n",
       "1  photo show earthquake devastation napa wine co...            1  \n",
       "2  rt dekebridges 60 magnitude earthquake hit nor...            2  \n",
       "3  rt gavinnewsom wow damage napaquake city amp h...            1  \n",
       "4  okay live napa valley california let little 60...            0  "
      ]
     },
     "execution_count": 38,
     "metadata": {},
     "output_type": "execute_result"
    }
   ],
   "source": [
    "from io import StringIO\n",
    "col = ['label', 'text']\n",
    "df = trainDF[col]\n",
    "df = df[pd.notnull(df['text'])]\n",
    "df.columns = ['label', 'text']\n",
    "df['category_id'] = df['label'].factorize()[0]\n",
    "category_id_df = df[['label', 'category_id']].drop_duplicates().sort_values('category_id')\n",
    "category_to_id = dict(category_id_df.values)\n",
    "id_to_category = dict(category_id_df[['category_id', 'label']].values)\n",
    "df.head()"
   ]
  },
  {
   "cell_type": "code",
   "execution_count": 31,
   "metadata": {},
   "outputs": [
    {
     "data": {
      "text/plain": [
       "(1408, 832)"
      ]
     },
     "execution_count": 31,
     "metadata": {},
     "output_type": "execute_result"
    }
   ],
   "source": [
    "from sklearn.feature_extraction.text import TfidfVectorizer\n",
    "tfidf = TfidfVectorizer(sublinear_tf=True, min_df=5, norm='l2', encoding='latin-1', ngram_range=(1, 2), stop_words='english')\n",
    "features = tfidf.fit_transform(df.text).toarray()\n",
    "labels = df.category_id\n",
    "features.shape"
   ]
  },
  {
   "cell_type": "markdown",
   "metadata": {},
   "source": [
    "Now each of the 1408 tweets is represented by 832 features, representing teh tf-idf score for different unigrams and bigrams"
   ]
  },
  {
   "cell_type": "code",
   "execution_count": 27,
   "metadata": {},
   "outputs": [
    {
     "name": "stdout",
     "output_type": "stream",
     "text": [
      "# 'caution_and_advice':\n",
      "  . Most correlated unigrams:\n",
      ". jimsciutto\n",
      ". sent\n",
      "  . Most correlated bigrams:\n",
      ". rt jimsciutto\n",
      ". earthquake rattle\n",
      "# 'displaced_people_and_evacuations':\n",
      "  . Most correlated unigrams:\n",
      ". rattle\n",
      ". usatoday\n",
      "  . Most correlated bigrams:\n",
      ". napa winery\n",
      ". rt usatoday\n",
      "# 'donation_needs_or_offers_or_volunteering_services':\n",
      "  . Most correlated unigrams:\n",
      ". review\n",
      ". biggest\n",
      "  . Most correlated bigrams:\n",
      ". biggest quake\n",
      ". hit california\n",
      "# 'infrastructure_and_utilities_damage':\n",
      "  . Most correlated unigrams:\n",
      ". human\n",
      ". big\n",
      "  . Most correlated bigrams:\n",
      ". valley winery\n",
      ". critically injured\n",
      "# 'injured_or_dead_people':\n",
      "  . Most correlated unigrams:\n",
      ". sonoma\n",
      ". watching\n",
      "  . Most correlated bigrams:\n",
      ". earthquake damage\n",
      ". earthquake amp\n",
      "# 'missing_trapped_or_found_people':\n",
      "  . Most correlated unigrams:\n",
      ". abc7\n",
      ". death\n",
      "  . Most correlated bigrams:\n",
      ". earthquake rattle\n",
      ". south napa\n",
      "# 'not_related_or_irrelevant':\n",
      "  . Most correlated unigrams:\n",
      ". mobile\n",
      ". park\n",
      "  . Most correlated bigrams:\n",
      ". rt ap\n",
      ". home park\n",
      "# 'other_useful_information':\n",
      "  . Most correlated unigrams:\n",
      ". park\n",
      ". know\n",
      "  . Most correlated bigrams:\n",
      ". mobile home\n",
      ". earthquake damage\n",
      "# 'sympathy_and_emotional_support':\n",
      "  . Most correlated unigrams:\n",
      ". 10second\n",
      ". shakealert\n",
      "  . Most correlated bigrams:\n",
      ". latimes winery\n",
      ". country dozen\n"
     ]
    }
   ],
   "source": [
    "from sklearn.feature_selection import chi2\n",
    "import numpy as np\n",
    "N = 2\n",
    "for label, category_id in sorted(category_to_id.items()):\n",
    "  features_chi2 = chi2(features, labels == category_id)\n",
    "  indices = np.argsort(features_chi2[0])\n",
    "  feature_names = np.array(tfidf.get_feature_names())[indices]\n",
    "  unigrams = [v for v in feature_names if len(v.split(' ')) == 1]\n",
    "  bigrams = [v for v in feature_names if len(v.split(' ')) == 2]\n",
    "  print(\"# '{}':\".format(label))\n",
    "  print(\"  . Most correlated unigrams:\\n. {}\".format('\\n. '.join(unigrams[-N:])))\n",
    "  print(\"  . Most correlated bigrams:\\n. {}\".format('\\n. '.join(bigrams[-N:])))"
   ]
  },
  {
   "cell_type": "code",
   "execution_count": 8,
   "metadata": {},
   "outputs": [],
   "source": [
    "from sklearn.model_selection import train_test_split\n",
    "from sklearn.feature_extraction.text import CountVectorizer\n",
    "from sklearn.feature_extraction.text import TfidfTransformer\n",
    "from sklearn.naive_bayes import MultinomialNB\n",
    "\n",
    "X_train, X_test, y_train, y_test = train_test_split(df['text'], df['label'], random_state = 0)\n",
    "count_vect = CountVectorizer()\n",
    "X_train_counts = count_vect.fit_transform(X_train)\n",
    "tfidf_transformer = TfidfTransformer()\n",
    "X_train_tfidf = tfidf_transformer.fit_transform(X_train_counts)\n",
    "clf = MultinomialNB().fit(X_train_tfidf, y_train)"
   ]
  },
  {
   "cell_type": "code",
   "execution_count": 9,
   "metadata": {},
   "outputs": [
    {
     "data": {
      "image/png": "[encoded data removed]",
      "text/plain": [
       "<Figure size 432x288 with 1 Axes>"
      ]
     },
     "metadata": {
      "needs_background": "light"
     },
     "output_type": "display_data"
    }
   ],
   "source": [
    "from sklearn.linear_model import LogisticRegression\n",
    "from sklearn.ensemble import RandomForestClassifier\n",
    "from sklearn.svm import LinearSVC\n",
    "from sklearn.model_selection import cross_val_score\n",
    "models = [\n",
    "    RandomForestClassifier(n_estimators=200, max_depth=3, random_state=0),\n",
    "    LinearSVC(),\n",
    "    MultinomialNB(),\n",
    "    LogisticRegression(random_state=0),\n",
    "]\n",
    "CV = 5\n",
    "cv_df = pd.DataFrame(index=range(CV * len(models)))\n",
    "entries = []\n",
    "for model in models:\n",
    "  model_name = model.__class__.__name__\n",
    "  accuracies = cross_val_score(model, features, labels, scoring='accuracy', cv=CV)\n",
    "  for fold_idx, accuracy in enumerate(accuracies):\n",
    "    entries.append((model_name, fold_idx, accuracy))\n",
    "cv_df = pd.DataFrame(entries, columns=['model_name', 'fold_idx', 'accuracy'])\n",
    "import seaborn as sns\n",
    "sns.boxplot(x='model_name', y='accuracy', data=cv_df)\n",
    "sns.stripplot(x='model_name', y='accuracy', data=cv_df, \n",
    "              size=8, jitter=True, edgecolor=\"gray\", linewidth=2)\n",
    "plt.show()"
   ]
  },
  {
   "cell_type": "code",
   "execution_count": 11,
   "metadata": {},
   "outputs": [
    {
     "data": {
      "text/plain": [
       "model_name\n",
       "LinearSVC                 0.428363\n",
       "LogisticRegression        0.497951\n",
       "MultinomialNB             0.459485\n",
       "RandomForestClassifier    0.503589\n",
       "Name: accuracy, dtype: float64"
      ]
     },
     "execution_count": 11,
     "metadata": {},
     "output_type": "execute_result"
    }
   ],
   "source": [
    "cv_df.groupby('model_name').accuracy.mean()"
   ]
  },
  {
   "cell_type": "code",
   "execution_count": 12,
   "metadata": {},
   "outputs": [
    {
     "name": "stdout",
     "output_type": "stream",
     "text": [
      "{'caution_and_advice', 'not_related_or_irrelevant', 'sympathy_and_emotional_support', 'missing_trapped_or_found_people', 'donation_needs_or_offers_or_volunteering_services', 'displaced_people_and_evacuations', 'infrastructure_and_utilities_damage', 'injured_or_dead_people', 'other_useful_information'}\n"
     ]
    }
   ],
   "source": [
    "print(set(test['category']))"
   ]
  },
  {
   "cell_type": "code",
   "execution_count": null,
   "metadata": {},
   "outputs": [],
   "source": []
  }
 ],
 "metadata": {
  "kernelspec": {
   "display_name": "Python 3",
   "language": "python",
   "name": "python3"
  },
  "language_info": {
   "codemirror_mode": {
    "name": "ipython",
    "version": 3
   },
   "file_extension": ".py",
   "mimetype": "text/x-python",
   "name": "python",
   "nbconvert_exporter": "python",
   "pygments_lexer": "ipython3",
   "version": "3.6.8"
  }
 },
 "nbformat": 4,
 "nbformat_minor": 2
}
